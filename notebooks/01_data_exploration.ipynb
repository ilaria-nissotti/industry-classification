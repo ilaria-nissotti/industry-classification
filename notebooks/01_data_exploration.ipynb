{
 "cells": [
  {
   "cell_type": "markdown",
   "id": "6fa198cc",
   "metadata": {},
   "source": [
    "# 01 — Data Exploration"
   ]
  },
  {
   "cell_type": "code",
   "execution_count": 2,
   "id": "4bdb35f3",
   "metadata": {},
   "outputs": [
    {
     "name": "stdout",
     "output_type": "stream",
     "text": [
      "Python: /home/nissotti/projects/industry-classification/.venv/bin/python\n"
     ]
    }
   ],
   "source": [
    "import sys, os, gc\n",
    "import numpy as np\n",
    "import pandas as pd\n",
    "\n",
    "pd.set_option(\"display.max_columns\", 60)\n",
    "pd.set_option(\"display.width\", 140)\n",
    "\n",
    "print(\"Python:\", sys.executable)"
   ]
  },
  {
   "cell_type": "code",
   "execution_count": 27,
   "id": "66b11599",
   "metadata": {},
   "outputs": [],
   "source": [
    "import pickle\n",
    "df_train = pd.read_pickle(\"../data/df_train.pkl\")"
   ]
  },
  {
   "cell_type": "markdown",
   "id": "f6406556",
   "metadata": {},
   "source": [
    "### Information on the data from df_train.pkl:\n",
    "id:\n",
    "- A unique identifier for each company\n",
    "- Useful for merging/joining with other datasets (like the financials one)\n",
    "- Not a feature for training (we drop it)\n",
    "\n",
    "industry:\n",
    "- The label (target variable) we want to predict\n",
    "- Each row belongs to some industry class (like \"Finance\", \"Healthcare\", etc)\n",
    "- This is our y when training classifiers\n",
    "\n",
    "business_description_embedding:\n",
    "- Instead of giving raw text descriptions (like \"A company that develops renewable energy solutions...\"), the dataset already has those descriptions turned into embeddings\n",
    "- An embedding is a vector of numbers (hundreds or thousands of floats) that encodes the meaning of the text\n",
    "    - Similar companies will have similar embeddings\n",
    "    - Different companies will have embeddings that are far apart\n",
    "\n",
    "Conclusion:\n",
    "\n",
    "id -> just an identifier \\\n",
    "industry -> what we want to predict (classification target) \\\n",
    "business_description_embedding -> the features (the input to classifiers/PCA)"
   ]
  },
  {
   "cell_type": "code",
   "execution_count": null,
   "id": "6d0fa3e7",
   "metadata": {},
   "outputs": [
    {
     "data": {
      "text/plain": [
       "(31706, 3)"
      ]
     },
     "execution_count": 29,
     "metadata": {},
     "output_type": "execute_result"
    }
   ],
   "source": [
    "df_train.shape # shows how many rows and columns there are"
   ]
  },
  {
   "cell_type": "code",
   "execution_count": null,
   "id": "09a698b1",
   "metadata": {},
   "outputs": [
    {
     "data": {
      "text/html": [
       "<div>\n",
       "<style scoped>\n",
       "    .dataframe tbody tr th:only-of-type {\n",
       "        vertical-align: middle;\n",
       "    }\n",
       "\n",
       "    .dataframe tbody tr th {\n",
       "        vertical-align: top;\n",
       "    }\n",
       "\n",
       "    .dataframe thead th {\n",
       "        text-align: right;\n",
       "    }\n",
       "</style>\n",
       "<table border=\"1\" class=\"dataframe\">\n",
       "  <thead>\n",
       "    <tr style=\"text-align: right;\">\n",
       "      <th></th>\n",
       "      <th>id</th>\n",
       "      <th>industry</th>\n",
       "      <th>business_description_embedding</th>\n",
       "    </tr>\n",
       "  </thead>\n",
       "  <tbody>\n",
       "    <tr>\n",
       "      <th>38532</th>\n",
       "      <td>42576</td>\n",
       "      <td>Banks</td>\n",
       "      <td>[0.03411475,-0.03753958,0.023233214,-0.0017205...</td>\n",
       "    </tr>\n",
       "    <tr>\n",
       "      <th>19838</th>\n",
       "      <td>21752</td>\n",
       "      <td>Materials</td>\n",
       "      <td>[-0.025557408,0.0636078,-0.01350581,-0.0180223...</td>\n",
       "    </tr>\n",
       "    <tr>\n",
       "      <th>904</th>\n",
       "      <td>804</td>\n",
       "      <td>Commercial &amp; Professional Services</td>\n",
       "      <td>[0.033574868,-0.020379327,-0.03221274,-0.01133...</td>\n",
       "    </tr>\n",
       "    <tr>\n",
       "      <th>28806</th>\n",
       "      <td>31603</td>\n",
       "      <td>Insurance</td>\n",
       "      <td>[0.020648101,0.017270269,-0.032921147,-0.01411...</td>\n",
       "    </tr>\n",
       "    <tr>\n",
       "      <th>10472</th>\n",
       "      <td>11333</td>\n",
       "      <td>Capital Goods</td>\n",
       "      <td>[-0.0006651232,0.011097765,-0.01976973,0.02299...</td>\n",
       "    </tr>\n",
       "  </tbody>\n",
       "</table>\n",
       "</div>"
      ],
      "text/plain": [
       "          id                            industry                     business_description_embedding\n",
       "38532  42576                               Banks  [0.03411475,-0.03753958,0.023233214,-0.0017205...\n",
       "19838  21752                           Materials  [-0.025557408,0.0636078,-0.01350581,-0.0180223...\n",
       "904      804  Commercial & Professional Services  [0.033574868,-0.020379327,-0.03221274,-0.01133...\n",
       "28806  31603                           Insurance  [0.020648101,0.017270269,-0.032921147,-0.01411...\n",
       "10472  11333                       Capital Goods  [-0.0006651232,0.011097765,-0.01976973,0.02299..."
      ]
     },
     "execution_count": 30,
     "metadata": {},
     "output_type": "execute_result"
    }
   ],
   "source": [
    "df_train.head(5) # shows the first 5 rows"
   ]
  },
  {
   "cell_type": "code",
   "execution_count": null,
   "id": "bdb73ef5",
   "metadata": {},
   "outputs": [
    {
     "name": "stdout",
     "output_type": "stream",
     "text": [
      "<class 'pandas.core.frame.DataFrame'>\n",
      "Index: 31706 entries, 38532 to 15797\n",
      "Data columns (total 3 columns):\n",
      " #   Column                          Non-Null Count  Dtype \n",
      "---  ------                          --------------  ----- \n",
      " 0   id                              31706 non-null  int64 \n",
      " 1   industry                        31706 non-null  object\n",
      " 2   business_description_embedding  31706 non-null  object\n",
      "dtypes: int64(1), object(2)\n",
      "memory usage: 990.8+ KB\n"
     ]
    }
   ],
   "source": [
    "df_train.info() # shows the column names, data types and how many non-nulls (helps spot missing data) -> here there is no missing data"
   ]
  },
  {
   "cell_type": "code",
   "execution_count": 34,
   "id": "aca6c943",
   "metadata": {},
   "outputs": [
    {
     "data": {
      "text/plain": [
       "25"
      ]
     },
     "execution_count": 34,
     "metadata": {},
     "output_type": "execute_result"
    }
   ],
   "source": [
    "df_train[\"industry\"].nunique()"
   ]
  },
  {
   "cell_type": "code",
   "execution_count": null,
   "id": "069f14a5",
   "metadata": {},
   "outputs": [
    {
     "data": {
      "text/plain": [
       "industry\n",
       "Materials                                         8394\n",
       "Capital Goods                                     3127\n",
       "Financial Services                                1936\n",
       "Pharmaceuticals, Biotechnology & Life Sciences    1925\n",
       "Technology Hardware & Equipment                   1547\n",
       "Software & Services                               1537\n",
       "Energy                                            1326\n",
       "Consumer Durables & Apparel                       1164\n",
       "Food, Beverage & Tobacco                          1094\n",
       "Health Care Equipment & Services                  1014\n",
       "Banks                                              948\n",
       "Media & Entertainment                              915\n",
       "Real Estate Management & Development               906\n",
       "Commercial & Professional Services                 804\n",
       "Consumer Services                                  672\n",
       "Consumer Discretionary Distribution & Retail       658\n",
       "Automobiles & Components                           625\n",
       "Semiconductors & Semiconductor Equipment           607\n",
       "Transportation                                     585\n",
       "Utilities                                          569\n",
       "Equity Real Estate Investment Trusts (REITs)       432\n",
       "Insurance                                          287\n",
       "Telecommunication Services                         230\n",
       "Household & Personal Products                      226\n",
       "Consumer Staples Distribution & Retail             178\n",
       "Name: count, dtype: int64"
      ]
     },
     "execution_count": 35,
     "metadata": {},
     "output_type": "execute_result"
    }
   ],
   "source": [
    "df_train[\"industry\"].value_counts()"
   ]
  },
  {
   "cell_type": "code",
   "execution_count": null,
   "id": "2b26e716",
   "metadata": {},
   "outputs": [
    {
     "data": {
      "image/png": "[encoded data removed]",
      "text/plain": [
       "<Figure size 700x500 with 1 Axes>"
      ]
     },
     "metadata": {},
     "output_type": "display_data"
    }
   ],
   "source": [
    "import seaborn as sns\n",
    "import matplotlib.pyplot as plt\n",
    "\n",
    "# prepare the counts\n",
    "top_industries = df_train[\"industry\"].value_counts().head(10).reset_index()\n",
    "top_industries.columns = [\"industry\", \"count\"]\n",
    "\n",
    "# plot\n",
    "plt.figure(figsize=(7,5))\n",
    "ax = sns.barplot(\n",
    "    data=top_industries,\n",
    "    y=\"industry\", x=\"count\",\n",
    "    hue=\"industry\",\n",
    "    dodge=False, # ensures bars don’t split\n",
    "    legend=False, # no legend needed since labels are on y-axis\n",
    "    palette=\"crest\"\n",
    ")\n",
    "plt.xlabel(\"Number of companies\")\n",
    "plt.ylabel(\"Industry\")\n",
    "plt.title(\"Top 10 Industries\")\n",
    "\n",
    "# add text labels\n",
    "for i, v in enumerate(top_industries[\"count\"]):\n",
    "    ax.text(v + 50, i, str(v), va=\"center\") # shift labels to the right of bars\n",
    "plt.show()\n",
    "\n"
   ]
  },
  {
   "cell_type": "code",
   "execution_count": 37,
   "id": "2ddb422e",
   "metadata": {},
   "outputs": [
    {
     "data": {
      "text/plain": [
       "'[0.0341147'"
      ]
     },
     "execution_count": 37,
     "metadata": {},
     "output_type": "execute_result"
    }
   ],
   "source": [
    "df_train[\"business_description_embedding\"].iloc[0][:10]"
   ]
  },
  {
   "cell_type": "markdown",
   "id": "a160a08f",
   "metadata": {},
   "source": [
    "The output of the previous line of code shows that the embeddings are still stored as strings, not as actual lists/arrays of numbers"
   ]
  },
  {
   "cell_type": "code",
   "execution_count": 38,
   "id": "aa977ea3",
   "metadata": {},
   "outputs": [
    {
     "name": "stdout",
     "output_type": "stream",
     "text": [
      "<class 'list'> 768\n",
      "[0.03411475, -0.03753958, 0.023233214, -0.0017205259, -0.004963611, 0.04651084, -0.012529841, 0.036100857, -0.035567928, -0.029617134]\n"
     ]
    }
   ],
   "source": [
    "import ast\n",
    "import numpy as np\n",
    "\n",
    "# Convert the string into a real list\n",
    "parsed = ast.literal_eval(df_train[\"business_description_embedding\"].iloc[0])\n",
    "print(type(parsed), len(parsed))\n",
    "print(parsed[:10])  # first 10 numbers"
   ]
  },
  {
   "cell_type": "code",
   "execution_count": 39,
   "id": "312a5367",
   "metadata": {},
   "outputs": [],
   "source": [
    "df_train[\"business_description_embedding\"] = df_train[\"business_description_embedding\"].map(ast.literal_eval)\n"
   ]
  },
  {
   "cell_type": "code",
   "execution_count": 49,
   "id": "329777f9",
   "metadata": {},
   "outputs": [
    {
     "name": "stdout",
     "output_type": "stream",
     "text": [
      "[0.03411475, -0.03753958, 0.023233214, -0.0017205259, -0.004963611, 0.04651084, -0.012529841, 0.036100857, -0.035567928, -0.029617134] ...\n"
     ]
    }
   ],
   "source": [
    "print(df_train[\"business_description_embedding\"].iloc[0][:10], \"...\")"
   ]
  }
 ],
 "metadata": {
  "kernelspec": {
   "display_name": "industry-env",
   "language": "python",
   "name": "industry-env"
  },
  "language_info": {
   "codemirror_mode": {
    "name": "ipython",
    "version": 3
   },
   "file_extension": ".py",
   "mimetype": "text/x-python",
   "name": "python",
   "nbconvert_exporter": "python",
   "pygments_lexer": "ipython3",
   "version": "3.10.12"
  }
 },
 "nbformat": 4,
 "nbformat_minor": 5
}
